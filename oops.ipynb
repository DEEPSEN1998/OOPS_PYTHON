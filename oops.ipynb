{
  "nbformat": 4,
  "nbformat_minor": 0,
  "metadata": {
    "colab": {
      "provenance": []
    },
    "kernelspec": {
      "name": "python3",
      "display_name": "Python 3"
    },
    "language_info": {
      "name": "python"
    }
  },
  "cells": [
    {
      "cell_type": "markdown",
      "source": [
        "# OOPS Theory Questions"
      ],
      "metadata": {
        "id": "arlDwC_5-eVf"
      }
    },
    {
      "cell_type": "markdown",
      "source": [
        "### Object-Oriented Programming (OOP) Concepts in Python\n",
        "\n",
        " 1. **What is Object-Oriented Programming (OOP)?**\n",
        "-  OOP is a programming paradigm based on the concept of objects, which can contain data (attributes) and code (methods)."
      ],
      "metadata": {
        "id": "VDuvpO8iwrUo"
      }
    },
    {
      "cell_type": "markdown",
      "source": [
        "**2. What is a class in OOP?**\n",
        "- A class is a blueprint for creating objects.\n"
      ],
      "metadata": {
        "id": "vYIvPurvqQ1t"
      }
    },
    {
      "cell_type": "code",
      "source": [
        "class Animal:\n",
        "    def __init__(self, name):\n",
        "        self.name = name"
      ],
      "metadata": {
        "id": "I5QHv5CdqT0X"
      },
      "execution_count": null,
      "outputs": []
    },
    {
      "cell_type": "markdown",
      "source": [
        " **3. What is an object in OOP?**\n",
        "-  An object is an instance of a class.\n"
      ],
      "metadata": {
        "id": "IoKBjXalqqqI"
      }
    },
    {
      "cell_type": "code",
      "source": [
        "cat = Animal(\"Cat\")"
      ],
      "metadata": {
        "id": "lWaOVWx1qqfZ"
      },
      "execution_count": null,
      "outputs": []
    },
    {
      "cell_type": "markdown",
      "source": [
        " **4. What is the difference between abstraction and encapsulation?**\n",
        "- Abstraction hides implementation details; encapsulation hides data by restricting access.\n",
        "\n"
      ],
      "metadata": {
        "id": "B-soi74gqqYs"
      }
    },
    {
      "cell_type": "code",
      "source": [
        "class Car:\n",
        "    def __init__(self):\n",
        "        self.__engine_status = \"Off\"  # Encapsulation\n",
        "\n",
        "    def start_engine(self):  # Abstraction\n",
        "        self.__engine_status = \"On\"\n",
        "        print(\"Engine started.\")"
      ],
      "metadata": {
        "id": "amEVVhPuqqPU"
      },
      "execution_count": null,
      "outputs": []
    },
    {
      "cell_type": "markdown",
      "source": [
        " **5. What are dunder methods in Python?**\n",
        "- Dunder methods are special methods with double underscores, like __init__ and __str__.\n",
        "class Book:\n"
      ],
      "metadata": {
        "id": "j6AV0IbRqqIT"
      }
    },
    {
      "cell_type": "code",
      "source": [
        "class Book:\n",
        "  def __init__(self, title):\n",
        "   self.title = title\n",
        "\n",
        "  def __str__(self):\n",
        "   return f\"Book: {self.title}\"\n",
        "\n",
        "\n",
        "\n",
        "\n",
        "\n",
        "book = Book(\"Python Basics\")\n",
        "print(book)"
      ],
      "metadata": {
        "colab": {
          "base_uri": "https://localhost:8080/"
        },
        "id": "P-WMe3_srR2A",
        "outputId": "7b6bd963-d2e6-4acc-ef7d-a32e29dfbe13"
      },
      "execution_count": null,
      "outputs": [
        {
          "output_type": "stream",
          "name": "stdout",
          "text": [
            "Book: Python Basics\n"
          ]
        }
      ]
    },
    {
      "cell_type": "markdown",
      "source": [
        "**6. Explain the concept of inheritance in OOP.**\n",
        "-  Inheritance allows a class to derive from another class.\n",
        "\n"
      ],
      "metadata": {
        "id": "4G8LzO0urRv7"
      }
    },
    {
      "cell_type": "code",
      "source": [
        "class Bird(Animal):\n",
        "    def fly(self):\n",
        "        print(f\"{self.name} is flying!\")\n",
        "\n",
        "parrot = Bird(\"Parrot\")\n",
        "parrot.fly()"
      ],
      "metadata": {
        "colab": {
          "base_uri": "https://localhost:8080/"
        },
        "id": "zso-DcPRrRp_",
        "outputId": "d2e1f2f7-6501-48ce-a568-869fd5699c0f"
      },
      "execution_count": null,
      "outputs": [
        {
          "output_type": "stream",
          "name": "stdout",
          "text": [
            "Parrot is flying!\n"
          ]
        }
      ]
    },
    {
      "cell_type": "markdown",
      "source": [
        "**7. What is polymorphism in OOP?**\n",
        "- Polymorphism allows methods to do different things based on the object.\n"
      ],
      "metadata": {
        "id": "KEsIftd0rRjY"
      }
    },
    {
      "cell_type": "code",
      "source": [
        "class Dog:\n",
        "    def sound(self):\n",
        "        print(\"Woof\")\n",
        "\n",
        "class Cat:\n",
        "    def sound(self):\n",
        "        print(\"Meow\")\n",
        "\n",
        "def make_sound(animal):\n",
        "    animal.sound()\n",
        "\n",
        "make_sound(Dog())\n",
        "make_sound(Cat())"
      ],
      "metadata": {
        "colab": {
          "base_uri": "https://localhost:8080/"
        },
        "id": "-tx81ru0rRc4",
        "outputId": "315b829c-eb8d-418f-a14a-9dbd2dff0811"
      },
      "execution_count": null,
      "outputs": [
        {
          "output_type": "stream",
          "name": "stdout",
          "text": [
            "Woof\n",
            "Meow\n"
          ]
        }
      ]
    },
    {
      "cell_type": "markdown",
      "source": [
        "8. **How is encapsulation achieved in Python?**\n",
        "- Encapsulation is achieved using private variables and getter/setter methods.\n"
      ],
      "metadata": {
        "id": "ci9KDeqKrRWm"
      }
    },
    {
      "cell_type": "code",
      "source": [
        "class Account:\n",
        "    def __init__(self, balance):\n",
        "        self.__balance = balance  # Private variable\n",
        "\n",
        "    def get_balance(self):\n",
        "        return self.__balance\n"
      ],
      "metadata": {
        "id": "UL4iUM3srRP-"
      },
      "execution_count": null,
      "outputs": []
    },
    {
      "cell_type": "markdown",
      "source": [
        "9. **What is a constructor in Python?**\n",
        "-  A constructor initializes an object's attributes.\n",
        "\n",
        "\n"
      ],
      "metadata": {
        "id": "hl_wEgoWrRJV"
      }
    },
    {
      "cell_type": "code",
      "source": [
        "class Person:\n",
        "    def __init__(self, name):\n",
        "        self.name = name"
      ],
      "metadata": {
        "id": "f020dFdFrRC3"
      },
      "execution_count": null,
      "outputs": []
    },
    {
      "cell_type": "markdown",
      "source": [
        " 10. **What are class and static methods in Python?**\n"
      ],
      "metadata": {
        "id": "OjoPr8ZXrQ82"
      }
    },
    {
      "cell_type": "code",
      "source": [
        "class Math:\n",
        "    @staticmethod\n",
        "    def add(a, b):\n",
        "        return a + b\n",
        "\n",
        "    @classmethod\n",
        "    def info(cls):\n",
        "        return \"Math class\""
      ],
      "metadata": {
        "id": "wa6x0rMxrQ1V"
      },
      "execution_count": null,
      "outputs": []
    },
    {
      "cell_type": "markdown",
      "source": [
        " 11. **What is method overloading in Python?**\n",
        "-  Python does not directly support method overloading but uses default arguments.\n"
      ],
      "metadata": {
        "id": "e2kh_PpxrQud"
      }
    },
    {
      "cell_type": "code",
      "source": [
        "def greet(name=None):\n",
        "    if name:\n",
        "        print(f\"Hello, {name}!\")\n",
        "    else:\n",
        "        print(\"Hello!\")"
      ],
      "metadata": {
        "id": "e3HwlwM2rQkv"
      },
      "execution_count": null,
      "outputs": []
    },
    {
      "cell_type": "markdown",
      "source": [
        " 12. **What is method overriding in OOP?**\n",
        "- Method overriding allows a subclass to replace a method from its parent class.\n"
      ],
      "metadata": {
        "id": "1qxEIw-_rQe8"
      }
    },
    {
      "cell_type": "code",
      "source": [
        "class Shape:\n",
        "    def draw(self):\n",
        "        print(\"Drawing a shape.\")\n",
        "\n",
        "class Circle(Shape):\n",
        "    def draw(self):\n",
        "        print(\"Drawing a circle.\")"
      ],
      "metadata": {
        "id": "1d05UfoDrQTS"
      },
      "execution_count": null,
      "outputs": []
    },
    {
      "cell_type": "markdown",
      "source": [
        " 13. **What is a property decorator in Python?**\n"
      ],
      "metadata": {
        "id": "0dLm53i2uF4J"
      }
    },
    {
      "cell_type": "code",
      "source": [
        "class Temperature:\n",
        "    def __init__(self, celsius):\n",
        "        self._celsius = celsius\n",
        "\n",
        "    @property\n",
        "    def fahrenheit(self):\n",
        "        return (self._celsius * 9/5) + 32"
      ],
      "metadata": {
        "id": "gOAxY7SAt9Xv"
      },
      "execution_count": null,
      "outputs": []
    },
    {
      "cell_type": "markdown",
      "source": [
        " 14. **Why is polymorphism important in OOP?**\n",
        "-  Polymorphism simplifies code and promotes reusability.\n",
        "\n"
      ],
      "metadata": {
        "id": "l545PsgpuIVh"
      }
    },
    {
      "cell_type": "markdown",
      "source": [
        " 15. **What is an abstract class in Python?**\n"
      ],
      "metadata": {
        "id": "9oHDf-R9uIIl"
      }
    },
    {
      "cell_type": "code",
      "source": [
        "from abc import ABC, abstractmethod\n",
        "\n",
        "class Vehicle(ABC):\n",
        "    @abstractmethod\n",
        "    def move(self):\n",
        "        pass"
      ],
      "metadata": {
        "id": "y9PI3RAhuICe"
      },
      "execution_count": null,
      "outputs": []
    },
    {
      "cell_type": "markdown",
      "source": [
        " 16. **What are the advantages of OOP?**\n",
        "-  Code reuse, scalability, and modular design.\n",
        "\n"
      ],
      "metadata": {
        "id": "phM9CtWUuH8m"
      }
    },
    {
      "cell_type": "markdown",
      "source": [
        "17. **What is the difference between a class variable and an instance variable?**\n",
        "\n"
      ],
      "metadata": {
        "id": "lf-M8cFiuHvq"
      }
    },
    {
      "cell_type": "code",
      "source": [
        "class Example:\n",
        "    class_var = \"Shared\"\n",
        "\n",
        "    def __init__(self, value):\n",
        "        self.instance_var = value"
      ],
      "metadata": {
        "id": "43gboV3euHo1"
      },
      "execution_count": null,
      "outputs": []
    },
    {
      "cell_type": "markdown",
      "source": [
        " 18. **What is multiple inheritance in Python?**\n",
        "\n",
        "\n"
      ],
      "metadata": {
        "id": "rB-aHZt2uHhr"
      }
    },
    {
      "cell_type": "code",
      "source": [
        "class Parent1:\n",
        "    def method1(self):\n",
        "        print(\"Parent1 method\")\n",
        "\n",
        "class Parent2:\n",
        "    def method2(self):\n",
        "        print(\"Parent2 method\")\n",
        "\n",
        "class Child(Parent1, Parent2):\n",
        "    pass"
      ],
      "metadata": {
        "id": "-_ClGhgsuHay"
      },
      "execution_count": null,
      "outputs": []
    },
    {
      "cell_type": "markdown",
      "source": [
        " 19.** Explain the purpose of __str__ and __repr__ methods in Python.**\n",
        "-  __str__: User-friendly string;\n",
        "-  __repr__: Developer-friendly string.\n",
        "\n"
      ],
      "metadata": {
        "id": "epKeKJcduHUF"
      }
    },
    {
      "cell_type": "markdown",
      "source": [
        " 20. **What is the significance of the super() function in Python?**\n",
        "-  Calls the parent class's method.\n"
      ],
      "metadata": {
        "id": "D2daC3wgvg-r"
      }
    },
    {
      "cell_type": "code",
      "source": [
        "class Parent:\n",
        "    def greet(self):\n",
        "        print(\"Hello from Parent\")\n",
        "\n",
        "class Child(Parent):\n",
        "    def greet(self):\n",
        "        super().greet()\n",
        "        print(\"Hello from Child\")"
      ],
      "metadata": {
        "id": "Vi134Z37uHMZ"
      },
      "execution_count": null,
      "outputs": []
    },
    {
      "cell_type": "markdown",
      "source": [
        " 21.**What is the significance of the __del__ method in Python?**\n",
        "-  Called when an object is deleted.\n",
        "\n",
        "\n"
      ],
      "metadata": {
        "id": "1bGSgULlv1Ef"
      }
    },
    {
      "cell_type": "markdown",
      "source": [
        "22.**What is the difference between @staticmethod and @classmethod in Python?**\n",
        "-  @staticmethod: No access to class/instance; @classmethod: Access to class.\n"
      ],
      "metadata": {
        "id": "ZfskO6pFv07D"
      }
    },
    {
      "cell_type": "markdown",
      "source": [
        " 23.**How does polymorphism work in Python with inheritance?**\n",
        "-  Polymorphism uses method overriding with inheritance."
      ],
      "metadata": {
        "id": "6oPWXe7Dv0yc"
      }
    },
    {
      "cell_type": "markdown",
      "source": [
        "24. **What is method chaining in Python OOP?**\n",
        "- Call methods in sequence.\n"
      ],
      "metadata": {
        "id": "SxaVQ0fivnw4"
      }
    },
    {
      "cell_type": "code",
      "source": [
        "class Chain:\n",
        "    def step1(self):\n",
        "        print(\"Step 1\")\n",
        "        return self\n",
        "\n",
        "    def step2(self):\n",
        "        print(\"Step 2\")\n",
        "        return self\n",
        "\n",
        "chain = Chain()\n",
        "chain.step1().step2()"
      ],
      "metadata": {
        "colab": {
          "base_uri": "https://localhost:8080/"
        },
        "id": "GyzBNZx9vqIu",
        "outputId": "48b83c64-1bbc-4e22-eb22-335e1141ddca"
      },
      "execution_count": null,
      "outputs": [
        {
          "output_type": "stream",
          "name": "stdout",
          "text": [
            "Step 1\n",
            "Step 2\n"
          ]
        },
        {
          "output_type": "execute_result",
          "data": {
            "text/plain": [
              "<__main__.Chain at 0x7c583b532bc0>"
            ]
          },
          "metadata": {},
          "execution_count": 20
        }
      ]
    },
    {
      "cell_type": "markdown",
      "source": [
        " 25. **What is the purpose of the __call__ method in Python?**\n",
        "- Makes an instance callable like a function.\n"
      ],
      "metadata": {
        "id": "pa7Ssth-uHEv"
      }
    },
    {
      "cell_type": "code",
      "source": [
        "class Callable:\n",
        "    def __call__(self):\n",
        "        print(\"Instance called!\")\n",
        "\n",
        "callable_instance = Callable()\n",
        "callable_instance()"
      ],
      "metadata": {
        "id": "LVfukhBavrm9"
      },
      "execution_count": null,
      "outputs": []
    },
    {
      "cell_type": "markdown",
      "source": [
        "# PRACTICAL QUESTIONS"
      ],
      "metadata": {
        "id": "A6Ox1d3tw4nE"
      }
    },
    {
      "cell_type": "code",
      "source": [
        "#1. Create a parent class Animal with a method speak() that prints a generic message. Create a child class Dog\n",
        "#that overrides the speak() method to print \"Bark!\".\n",
        "class Animal:\n",
        "    def speak(self):\n",
        "        print(\"animal sound\")\n",
        "\n",
        "class Dog(Animal):\n",
        "    def speak(self):\n",
        "        print(\"Bark!\")\n",
        "\n",
        "a=Animal()\n",
        "a.speak()\n",
        "d=Dog()\n",
        "d.speak()"
      ],
      "metadata": {
        "colab": {
          "base_uri": "https://localhost:8080/"
        },
        "id": "5yg_zuNBw9jl",
        "outputId": "001df80a-ae12-4430-a81c-fa9aeb15e6f0"
      },
      "execution_count": null,
      "outputs": [
        {
          "output_type": "stream",
          "name": "stdout",
          "text": [
            "animal sound\n",
            "Bark!\n"
          ]
        }
      ]
    },
    {
      "cell_type": "code",
      "source": [
        "#2. Write a program to create an abstract class Shape with a method area(). Derive classes Circle and Rectangle\n",
        "# from it and implement the area() method in both.\n",
        "\n",
        "from abc import ABC, abstractmethod\n",
        "\n",
        "class Shape(ABC):\n",
        "  @abstractmethod\n",
        "  def area(self):\n",
        "     pass\n",
        "class Circle(Shape):\n",
        "  def area(self,r):\n",
        "    A=3.14*(r**2)\n",
        "    return A\n",
        "class Rectangle(Shape):\n",
        "  def area(self,w,l):\n",
        "    A=w*l\n",
        "    return A\n",
        "c=Circle()\n",
        "print(\"area of Circle is\",c.area(4))\n",
        "r=Rectangle()\n",
        "print(\"area of an rectangle is\",r.area(20,30))\n",
        "\n",
        "\n"
      ],
      "metadata": {
        "id": "p2CG4RrFxeZp",
        "colab": {
          "base_uri": "https://localhost:8080/"
        },
        "outputId": "0477264b-b135-4acf-93d5-9636b6cfb1db"
      },
      "execution_count": 30,
      "outputs": [
        {
          "output_type": "stream",
          "name": "stdout",
          "text": [
            "area of Circle is 50.24\n",
            "area of an rectangle is 600\n"
          ]
        }
      ]
    },
    {
      "cell_type": "code",
      "source": [
        "#3. Implement a multi-level inheritance scenario where a class Vehicle has an attribute type. Derive a class Car\n",
        "# and further derive a class ElectricCar that adds a battery attribute\n",
        "class Vehicle:\n",
        "    def __init__(self, vehicle_type):\n",
        "        self.type = vehicle_type\n",
        "\n",
        "    def ignition(self):\n",
        "        print(\"Vehicle ignition started\")\n",
        "\n",
        "    def brake(self):\n",
        "        print(\"Vehicle is braking\")\n",
        "\n",
        "    wheels = \"any number\"\n",
        "\n",
        "class Car(Vehicle):\n",
        "    def __init__(self, vehicle_type, fuel_type=\"petrol\"):\n",
        "        super().__init__(vehicle_type)\n",
        "        self.fuel = fuel_type\n",
        "\n",
        "    wheels = \"4\"\n",
        "\n",
        "class ElectricCar(Car):\n",
        "    def __init__(self, vehicle_type, battery_capacity=\"100 kWh\"):\n",
        "        super().__init__(vehicle_type, fuel_type=\"electric\")\n",
        "        self.battery = battery_capacity\n",
        "\n",
        "# Example usage:\n",
        "vehicle = Vehicle(\"General Vehicle\")\n",
        "print(f\"Vehicle type: {vehicle.type}\")\n",
        "vehicle.ignition()\n",
        "vehicle.brake()\n",
        "\n",
        "car = Car(\"Sedan\")\n",
        "print(f\"\\nCar type: {car.type}, Fuel type: {car.fuel}, Wheels: {car.wheels}\")\n",
        "car.ignition()\n",
        "car.brake()\n",
        "\n",
        "electric_car = ElectricCar(\"Tesla Model 3\", battery_capacity=\"75 kWh\")\n",
        "print(f\"\\nElectricCar type: {electric_car.type}, Battery: {electric_car.battery}, Wheels: {electric_car.wheels}\")\n",
        "electric_car.ignition()\n",
        "electric_car.brake()\n"
      ],
      "metadata": {
        "colab": {
          "base_uri": "https://localhost:8080/"
        },
        "id": "EIgnkfux2e-L",
        "outputId": "4db444c4-da4f-4694-b220-a40a5756b376"
      },
      "execution_count": 32,
      "outputs": [
        {
          "output_type": "stream",
          "name": "stdout",
          "text": [
            "Vehicle type: General Vehicle\n",
            "Vehicle ignition started\n",
            "Vehicle is braking\n",
            "\n",
            "Car type: Sedan, Fuel type: petrol, Wheels: 4\n",
            "Vehicle ignition started\n",
            "Vehicle is braking\n",
            "\n",
            "ElectricCar type: Tesla Model 3, Battery: 75 kWh, Wheels: 4\n",
            "Vehicle ignition started\n",
            "Vehicle is braking\n"
          ]
        }
      ]
    },
    {
      "cell_type": "code",
      "source": [
        "#5. Write a program to demonstrate encapsulation by creating a class BankAccount with private attributes\n",
        "# balance and methods to deposit, withdraw, and check balance.\n",
        "class BankAccount():\n",
        "  def __init__(self,balance):\n",
        "    self.__balance=balance\n",
        "  def deposit(self,deposit_amount):\n",
        "    self.__balance=self.__balance + deposit_amount\n",
        "  def withdraw(self,withdrawl_amount):\n",
        "    self.__balance=self.__balance - withdrawl_amount\n",
        "  def check_balance(self):\n",
        "    print(\"your bank balance is\",self.__balance)\n",
        "\n",
        "b=BankAccount(1000)\n",
        "b.check_balance()\n",
        "b.deposit(1000)\n",
        "b.check_balance()\n",
        "b.withdraw(500)\n",
        "b.check_balance()\n",
        "\n",
        "\n"
      ],
      "metadata": {
        "colab": {
          "base_uri": "https://localhost:8080/"
        },
        "id": "xoHK7inZ6Pqk",
        "outputId": "ee04b9b3-af73-469b-8a1a-e9e4723ca06a"
      },
      "execution_count": 38,
      "outputs": [
        {
          "output_type": "stream",
          "name": "stdout",
          "text": [
            "your bank balance is 1000\n",
            "your bank balance is 2000\n",
            "your bank balance is 1500\n"
          ]
        }
      ]
    },
    {
      "cell_type": "code",
      "source": [
        "#6. Demonstrate runtime polymorphism using a method play() in a base class Instrument. Derive classes Guitar\n",
        "# and Piano that implement their own version of play().\n",
        "class Instrument:\n",
        "  def play(self):\n",
        "    print(\"sounds melody\")\n",
        "class Guitar(Instrument):\n",
        "  def play(self):\n",
        "    print(\"sounds harmonic\")\n",
        "class Piano(Instrument):\n",
        "  def play(self):\n",
        "    print(\"sounds Pleasant\")\n",
        "ins=Instrument()\n",
        "ins.play()\n",
        "g=Guitar()\n",
        "g.play()\n",
        "p=Piano()\n",
        "p.play()\n"
      ],
      "metadata": {
        "colab": {
          "base_uri": "https://localhost:8080/"
        },
        "id": "l8s4B_a39NvN",
        "outputId": "6c9370e3-9cc5-45a5-fcfc-1008b60a1f04"
      },
      "execution_count": 42,
      "outputs": [
        {
          "output_type": "stream",
          "name": "stdout",
          "text": [
            "sounds melody\n",
            "sounds harmonic\n",
            "sounds Pleasant\n"
          ]
        }
      ]
    },
    {
      "cell_type": "code",
      "source": [
        "#7. Create a class MathOperations with a class method add_numbers() to add two numbers and a static\n",
        "# method subtract_numbers() to subtract two numbers.\n",
        "class MathOperations:\n",
        "  @classmethod\n",
        "  def add_numbers(self,x,y):\n",
        "    res=x+y\n",
        "    return res\n",
        "\n",
        "  @staticmethod\n",
        "  def subtract_numbers(x,y):\n",
        "    res=x-y\n",
        "    return res\n",
        "m1=MathOperations()\n",
        "m1.add_numbers(5,6) #11\n",
        "m1.subtract_numbers(11,1)"
      ],
      "metadata": {
        "colab": {
          "base_uri": "https://localhost:8080/"
        },
        "id": "W_gPMs8d_Zl2",
        "outputId": "924f6b85-c183-4a51-ea99-b4b714d76969"
      },
      "execution_count": 46,
      "outputs": [
        {
          "output_type": "execute_result",
          "data": {
            "text/plain": [
              "10"
            ]
          },
          "metadata": {},
          "execution_count": 46
        }
      ]
    },
    {
      "cell_type": "code",
      "source": [
        "#8. Implement a class Person with a class method to count the total number of persons created.\n",
        "class Person:\n",
        "    # Class variable to keep track of the count of persons\n",
        "    count = 0\n",
        "\n",
        "    def __init__(self, name):\n",
        "        self.name = name\n",
        "        Person.count += 1  # Increment the count when a new person is created\n",
        "\n",
        "    @classmethod\n",
        "    def get_count(cls):\n",
        "        \"\"\"Class method to return the total number of persons created.\"\"\"\n",
        "        return cls.count\n",
        "\n",
        "# Example usage:\n",
        "person1 = Person(\"Alice\")\n",
        "person2 = Person(\"Bob\")\n",
        "person3 = Person(\"Charlie\")\n",
        "\n",
        "print(f\"Total number of persons created: {Person.get_count()}\")\n",
        "\n",
        "\n"
      ],
      "metadata": {
        "colab": {
          "base_uri": "https://localhost:8080/"
        },
        "id": "e5fgVmNnAkav",
        "outputId": "32c34654-6491-4a72-fa17-45835c995a6a"
      },
      "execution_count": 47,
      "outputs": [
        {
          "output_type": "stream",
          "name": "stdout",
          "text": [
            "Total number of persons created: 3\n"
          ]
        }
      ]
    },
    {
      "cell_type": "code",
      "source": [
        "#9. Write a class Fraction with attributes numerator and denominator. Override the str method to display the\n",
        "# fraction as \"numerator/denominator\".\n",
        "class Fraction:\n",
        "    def __init__(self, numerator, denominator):\n",
        "        if denominator == 0:\n",
        "            raise ValueError(\"Denominator cannot be zero\")\n",
        "        self.numerator = numerator\n",
        "        self.denominator = denominator\n",
        "\n",
        "    def __str__(self):\n",
        "        return f\"{self.numerator}/{self.denominator}\"\n",
        "\n",
        "# Example usage:\n",
        "fraction1 = Fraction(3, 4)\n",
        "fraction2 = Fraction(5, 8)\n",
        "\n",
        "print(f\"Fraction 1: {fraction1}\")\n",
        "print(f\"Fraction 2: {fraction2}\")\n"
      ],
      "metadata": {
        "colab": {
          "base_uri": "https://localhost:8080/"
        },
        "id": "Kzgtrx21B3Mf",
        "outputId": "e47ce7ac-4306-4aa6-c0be-74950004d751"
      },
      "execution_count": 48,
      "outputs": [
        {
          "output_type": "stream",
          "name": "stdout",
          "text": [
            "Fraction 1: 3/4\n",
            "Fraction 2: 5/8\n"
          ]
        }
      ]
    },
    {
      "cell_type": "code",
      "source": [
        "#10. Demonstrate operator overloading by creating a class Vector and overriding the add method to add two vectors.\n",
        "class Vector:\n",
        "    def __init__(self, x, y):\n",
        "        self.x = x\n",
        "        self.y = y\n",
        "\n",
        "    def __add__(self, other):\n",
        "      return Vector(self.x + other.x, self.y + other.y)\n",
        "\n",
        "\n",
        "\n",
        "    def __str__(self):\n",
        "       return f\"({self.x}, {self.y})\"\n",
        "\n",
        "\n",
        "# Example usage:\n",
        "vector1 = Vector(3, 4)\n",
        "vector2 = Vector(1, 2)\n",
        "\n",
        "# Adding two vectors using the overridden `+` operator\n",
        "result = vector1 + vector2\n",
        "\n",
        "print(f\"Vector 1: {vector1}\")\n",
        "print(f\"Vector 2: {vector2}\")\n",
        "print(f\"Resultant Vector: {result}\")\n"
      ],
      "metadata": {
        "colab": {
          "base_uri": "https://localhost:8080/"
        },
        "id": "IGcK98uZCYc3",
        "outputId": "16f514bc-741e-400d-b766-c2409bd684dd"
      },
      "execution_count": 49,
      "outputs": [
        {
          "output_type": "stream",
          "name": "stdout",
          "text": [
            "Vector 1: (3, 4)\n",
            "Vector 2: (1, 2)\n",
            "Resultant Vector: (4, 6)\n"
          ]
        }
      ]
    },
    {
      "cell_type": "code",
      "source": [
        "#11. Create a class Person with attributes name and age. Add a method greet() that prints \"Hello, my name is\n",
        "# {name} and I am {age} years old.\n",
        "class Person:\n",
        "  def __init__(self,name,age):\n",
        "    self.__name=name\n",
        "    self.__age=age\n",
        "  def greet(self):\n",
        "    print(f\"Hello, my name is {self.__name} and I am {self.__age} years old\")\n",
        "p=Person('Deep Sen',26)\n",
        "p.greet()"
      ],
      "metadata": {
        "colab": {
          "base_uri": "https://localhost:8080/"
        },
        "id": "VLcVk4RlCzE-",
        "outputId": "0c6eb8e5-80bc-42f2-b016-5c15676d669c"
      },
      "execution_count": 54,
      "outputs": [
        {
          "output_type": "stream",
          "name": "stdout",
          "text": [
            "Hello, my name is Deep Sen and I am 26 years old\n"
          ]
        }
      ]
    },
    {
      "cell_type": "code",
      "source": [
        "#12. Implement a class Student with attributes name and grades. Create a method average_grade() to compute\n",
        "# the average of the grades\n",
        "\n",
        "class Student:\n",
        "    def __init__(self, name, grades):\n",
        "        self.name = name\n",
        "        self.grades = grades\n",
        "\n",
        "    def average_grade(self):\n",
        "        if not self.grades:\n",
        "            return 0  # Return 0 if no grades are available\n",
        "        return sum(self.grades) / len(self.grades)\n",
        "\n",
        "    def __str__(self):\n",
        "        return f\"Student: {self.name}, Grades: {self.grades}\"\n",
        "\n",
        "# Example usage:\n",
        "student1 = Student(\"Deep\", [85, 90, 78, 92])\n",
        "student2 = Student(\"Rahul\", [70, 75, 80])\n",
        "\n",
        "print(student1)\n",
        "print(f\"Average Grade of {student1.name}: {student1.average_grade():.2f}\")\n",
        "\n",
        "print(student2)\n",
        "print(f\"Average Grade of {student2.name}: {student2.average_grade():.2f}\")\n",
        "\n",
        "\n"
      ],
      "metadata": {
        "colab": {
          "base_uri": "https://localhost:8080/"
        },
        "id": "OPITjPzWD5HY",
        "outputId": "3cf1056e-239e-425c-a494-53439eda33f3"
      },
      "execution_count": 56,
      "outputs": [
        {
          "output_type": "stream",
          "name": "stdout",
          "text": [
            "Student: Deep, Grades: [85, 90, 78, 92]\n",
            "Average Grade of Deep: 86.25\n",
            "Student: Rahul, Grades: [70, 75, 80]\n",
            "Average Grade of Rahul: 75.00\n"
          ]
        }
      ]
    },
    {
      "cell_type": "code",
      "source": [
        "#13. Create a class Rectangle with methods set_dimensions() to set the dimensions and area() to calculate the area.\n",
        "class Rectangle:\n",
        "  def set_dimensions(self,w,l):\n",
        "    self.w=w\n",
        "    self.l=l\n",
        "  def area(self):\n",
        "    A=self.w*self.l\n",
        "    return A\n",
        "r=Rectangle()\n",
        "r.set_dimensions(60,30)\n",
        "r.area()\n"
      ],
      "metadata": {
        "colab": {
          "base_uri": "https://localhost:8080/"
        },
        "id": "4Bu1tapYI5t7",
        "outputId": "a551abeb-4f99-44da-ebac-52c88ed9be4d"
      },
      "execution_count": 59,
      "outputs": [
        {
          "output_type": "execute_result",
          "data": {
            "text/plain": [
              "1800"
            ]
          },
          "metadata": {},
          "execution_count": 59
        }
      ]
    },
    {
      "cell_type": "code",
      "source": [
        "#14. Create a class Employee with a method calculate_salary() that computes the salary based on hours worked\n",
        "# and hourly rate. Create a derived class Manager that adds a bonus to the salary\n",
        "class Employee:\n",
        "    def __init__(self, hourly_rate=500):\n",
        "        self.hourly_rate = hourly_rate\n",
        "        self.salary = 0\n",
        "\n",
        "    def calculate_salary(self, work_hours):\n",
        "        self.salary = work_hours * self.hourly_rate\n",
        "        return self.salary\n",
        "\n",
        "class Manager(Employee):\n",
        "    def add_bonus(self, bonus):\n",
        "        self.salary += bonus\n",
        "        return self.salary\n",
        "\n",
        "\n",
        "emp = Employee()\n",
        "emp_salary = emp.calculate_salary(300)\n",
        "print(f\"Employee Salary: {emp_salary}\")\n",
        "\n",
        "mgr = Manager()\n",
        "mgr_salary = mgr.calculate_salary(300)  # Calculate base salary\n",
        "mgr_total_salary = mgr.add_bonus(5000)  # Add bonus to base salary\n",
        "print(f\"Manager Salary (with Bonus): {mgr_total_salary}\")\n",
        "\n"
      ],
      "metadata": {
        "colab": {
          "base_uri": "https://localhost:8080/"
        },
        "id": "YN9mrCa8KA9S",
        "outputId": "31df1ba8-8d86-4f44-9797-d2c3b080653b"
      },
      "execution_count": 63,
      "outputs": [
        {
          "output_type": "stream",
          "name": "stdout",
          "text": [
            "Employee Salary: 150000\n",
            "Manager Salary (with Bonus): 155000\n"
          ]
        }
      ]
    },
    {
      "cell_type": "code",
      "source": [
        "#15.Create a class Product with attributes name, price, and quantity. Implement a method total_price() that\n",
        "# calculates the total price of the product.\n",
        "class Product:\n",
        "  def __init__(self,name,price,quantity):\n",
        "    self.name=name\n",
        "    self.price=price\n",
        "    self.quantity=quantity\n",
        "  def total_price(self):\n",
        "    total_price=self.price*self.quantity\n",
        "    return total_price\n",
        "p1=Product(\"Laptop\",38000,100)\n",
        "p1.total_price()\n"
      ],
      "metadata": {
        "colab": {
          "base_uri": "https://localhost:8080/"
        },
        "id": "kZvBgpHvN9Pr",
        "outputId": "2b04f046-71ad-4d56-db7f-f33d51fcb2b5"
      },
      "execution_count": 65,
      "outputs": [
        {
          "output_type": "execute_result",
          "data": {
            "text/plain": [
              "3800000"
            ]
          },
          "metadata": {},
          "execution_count": 65
        }
      ]
    },
    {
      "cell_type": "code",
      "source": [
        "#16. Create a class Animal with an abstract method sound(). Create two derived classes Cow and Sheep that implement the sound() method.\n",
        "from abc import ABC, abstractmethod\n",
        "class Animal:\n",
        "  @abstractmethod\n",
        "  def sound(self):\n",
        "    pass\n",
        "class Cow(Animal):\n",
        "  def sound(self):\n",
        "    print(\"moo.....\")\n",
        "class Sheep(Animal):\n",
        "  def sound(self):\n",
        "    print(\"baa....\")\n",
        "sheep=Sheep()\n",
        "sheep.sound()\n",
        "cow=Cow()\n",
        "cow.sound()\n"
      ],
      "metadata": {
        "colab": {
          "base_uri": "https://localhost:8080/"
        },
        "id": "JV77ZdVoPliM",
        "outputId": "ede77ba7-7e05-4cc0-937f-fabc94df9211"
      },
      "execution_count": 70,
      "outputs": [
        {
          "output_type": "stream",
          "name": "stdout",
          "text": [
            "baa....\n",
            "moo.....\n"
          ]
        }
      ]
    },
    {
      "cell_type": "code",
      "source": [
        "#17.Create a class Book with attributes title, author, and year_published. Add a method get_book_info() that\n",
        "# returns a formatted string with the book's details.\n",
        "class Book:\n",
        "  def __init__(self,title,author,year_published):\n",
        "    self.title=title\n",
        "    self.author=author\n",
        "    self.year_published=year_published\n",
        "  def get_book_info(self):\n",
        "    print(f\"book's title: \\t{self.title} ,book's author: \\t{self.author} ,year of published: \\t{self.year_published}\")\n",
        "b1=Book(\"Data Science\",\"Ajay Kumar Gupta\",\"2024\")\n",
        "b1.get_book_info()"
      ],
      "metadata": {
        "colab": {
          "base_uri": "https://localhost:8080/"
        },
        "id": "zn9i5DboRlZd",
        "outputId": "76943466-b608-4395-968d-50adf95075f2"
      },
      "execution_count": 75,
      "outputs": [
        {
          "output_type": "stream",
          "name": "stdout",
          "text": [
            "book's title: \tData Science ,book's author: \tAjay Kumar Gupta ,year of published: \t2024\n"
          ]
        }
      ]
    },
    {
      "cell_type": "code",
      "source": [
        "#18. Create a class House with attributes address and price. Create a derived class Mansion that adds an\n",
        "# attribute number_of_rooms.\n",
        "class House:\n",
        "    def __init__(self, address, price):\n",
        "        self.address = address\n",
        "        self.price = price\n",
        "\n",
        "    def info(self):\n",
        "        print(f\"ADDRESS:\\t{self.address}, PRICE:\\t{self.price}\")\n",
        "\n",
        "class Mansion(House):\n",
        "    def __init__(self, address, price, number_of_rooms):\n",
        "        # Initialize the attributes of the parent class\n",
        "        super().__init__(address, price)\n",
        "        self.number_of_rooms = number_of_rooms\n",
        "\n",
        "    def info(self):\n",
        "        # Extend the info method to include number_of_rooms\n",
        "        print(f\"ADDRESS:\\t{self.address}, PRICE:\\t{self.price}, NUMBER OF ROOMS:\\t{self.number_of_rooms}\")\n",
        "\n",
        "# Example usage:\n",
        "m = Mansion('Ashokenagar', 150000000, 30)\n",
        "m.info()\n",
        "\n"
      ],
      "metadata": {
        "colab": {
          "base_uri": "https://localhost:8080/"
        },
        "id": "k7HNCt8HVmM2",
        "outputId": "471d0f4d-36a4-444f-e51e-99ad597df3d8"
      },
      "execution_count": 79,
      "outputs": [
        {
          "output_type": "stream",
          "name": "stdout",
          "text": [
            "ADDRESS:\tAshokenagar, PRICE:\t150000000, NUMBER OF ROOMS:\t30\n"
          ]
        }
      ]
    },
    {
      "cell_type": "code",
      "source": [],
      "metadata": {
        "id": "3TNwqKGAXq23"
      },
      "execution_count": null,
      "outputs": []
    }
  ]
}